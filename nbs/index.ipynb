{
 "cells": [
  {
   "cell_type": "code",
   "execution_count": null,
   "metadata": {},
   "outputs": [],
   "source": [
    "#| hide\n",
    "from pyairhealth.core import *"
   ]
  },
  {
   "cell_type": "markdown",
   "metadata": {},
   "source": [
    "# pyairhealth\n",
    "\n",
    "> A library to conduct public health assessment of air quality like U.S. EPA's BenMAP but in Python"
   ]
  },
  {
   "cell_type": "markdown",
   "metadata": {},
   "source": [
    "The goal of this project is to develop a Python package that can conduct public health assessments of air quality, similar to as the U.S. EPA’s U.S. EPA's [Environmental Benefits Mapping and Analysis Program - Community Edition (BenMAP-CE)](https://www.epa.gov/benmap).\n",
    "\n",
    "BenMAP-CE is a tool that calculates the public health benefits resulting from changes in air quality, such as premature death, lung cancer, and hospitalization. It is a de facto standard and is developed and updated by the U.S. Environmental Protection Agency. Although it is an excellent tool, its graphical user interface is not ideal for conducting public health assessments programmatically.\n",
    "\n",
    "This package uses a part of BenMAP-CE's internal database and allows you to calculate the impact of air quality on public health and its economic value using Python. It will also provide a summary of atmospheric science, public health, and economics in the context of assessing the public health effect of air  quality."
   ]
  },
  {
   "cell_type": "markdown",
   "metadata": {},
   "source": [
    "## Install (not working yet!)"
   ]
  },
  {
   "cell_type": "markdown",
   "metadata": {},
   "source": [
    "## pip"
   ]
  },
  {
   "cell_type": "markdown",
   "metadata": {},
   "source": [
    "```sh\n",
    "pip install pyairhealth\n",
    "```"
   ]
  },
  {
   "cell_type": "markdown",
   "metadata": {},
   "source": [
    "## conda"
   ]
  },
  {
   "cell_type": "markdown",
   "metadata": {},
   "source": [
    "```sh\n",
    "conda install pyairhealth\n",
    "```"
   ]
  }
 ],
 "metadata": {
  "kernelspec": {
   "display_name": "python3",
   "language": "python",
   "name": "python3"
  }
 },
 "nbformat": 4,
 "nbformat_minor": 4
}
